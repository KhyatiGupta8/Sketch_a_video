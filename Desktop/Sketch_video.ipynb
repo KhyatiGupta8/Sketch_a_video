{
  "nbformat": 4,
  "nbformat_minor": 0,
  "metadata": {
    "colab": {
      "name": "Sketch_video.ipynb",
      "provenance": []
    },
    "kernelspec": {
      "name": "python3",
      "display_name": "Python 3"
    },
    "language_info": {
      "name": "python"
    }
  },
  "cells": [
    {
      "cell_type": "code",
      "metadata": {
        "id": "ZFwAfW25WpAs"
      },
      "source": [
        "import cv2\n",
        "import numpy as np\n",
        "\n",
        "def nothing(x):\n",
        "    pass\n",
        "\n",
        "cap=cv2.VideoCapture(0)\n",
        "cv2.namedWindow('sketch')\n",
        "\n",
        "cv2.createTrackbar('LTC','sketch',0,255,nothing)\n",
        "cv2.createTrackbar('UTC','sketch',0,255,nothing)\n",
        "\n",
        "while True:\n",
        "    ret,frame=cap.read()\n",
        "\n",
        "    image=cv2.cvtColor(frame,cv2.COLOR_BGR2GRAY)\n",
        "    image=cv2.GaussianBlur(image,(7,7),0)\n",
        "    \n",
        "    ltc=cv2.getTrackbarPos('LTC','sketch')\n",
        "    utc=cv2.getTrackbarPos('UTC','sketch')\n",
        "\n",
        "    image=cv2.Canny(image,ltc,utc)\n",
        "    ret,image=cv2.threshold(image,50,255,cv2.THRESH_BINARY_INV)\n",
        "    \n",
        "    cv2.imshow(\"original\",frame)\n",
        "    cv2.imshow(\"sketch\",image)\n",
        "    if cv2.waitKey(1)==ord('q'):\n",
        "        break\n",
        "cap.release()\n",
        "cv2.destroyAllWindows()"
      ],
      "execution_count": null,
      "outputs": []
    },
    {
      "cell_type": "code",
      "metadata": {
        "id": "R6pmreDUA0WW"
      },
      "source": [
        ""
      ],
      "execution_count": null,
      "outputs": []
    }
  ]
}